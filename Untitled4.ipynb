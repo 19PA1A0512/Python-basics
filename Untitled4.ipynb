{
  "nbformat": 4,
  "nbformat_minor": 0,
  "metadata": {
    "colab": {
      "name": "Untitled4.ipynb",
      "provenance": [],
      "authorship_tag": "ABX9TyP+Wpi74cqNTMHar07+DaYk",
      "include_colab_link": true
    },
    "kernelspec": {
      "name": "python3",
      "display_name": "Python 3"
    }
  },
  "cells": [
    {
      "cell_type": "markdown",
      "metadata": {
        "id": "view-in-github",
        "colab_type": "text"
      },
      "source": [
        "<a href=\"https://colab.research.google.com/github/19PA1A0512/Python-basics/blob/master/Untitled4.ipynb\" target=\"_parent\"><img src=\"https://colab.research.google.com/assets/colab-badge.svg\" alt=\"Open In Colab\"/></a>"
      ]
    },
    {
      "cell_type": "code",
      "metadata": {
        "id": "0GUzBSLJViY9",
        "colab_type": "code",
        "colab": {
          "base_uri": "https://localhost:8080/",
          "height": 419
        },
        "outputId": "3d529c95-5245-4478-9979-cca574b2d6bc"
      },
      "source": [
        "import os\n",
        "import pandas as pd\n",
        "import numpy as np\n",
        "import matplotlib.pyplot as plt\n",
        "import statsmodels.api as sm\n",
        "from sklearn.linear_model import LinearRegression\n",
        "from sklearn.model_selection import train_test_split\n",
        "from sklearn.metrics import mean_squared_error\n",
        "data=pd.read_csv(\"GPA Vs SAT.csv\")\n",
        "data"
      ],
      "execution_count": 1,
      "outputs": [
        {
          "output_type": "execute_result",
          "data": {
            "text/html": [
              "<div>\n",
              "<style scoped>\n",
              "    .dataframe tbody tr th:only-of-type {\n",
              "        vertical-align: middle;\n",
              "    }\n",
              "\n",
              "    .dataframe tbody tr th {\n",
              "        vertical-align: top;\n",
              "    }\n",
              "\n",
              "    .dataframe thead th {\n",
              "        text-align: right;\n",
              "    }\n",
              "</style>\n",
              "<table border=\"1\" class=\"dataframe\">\n",
              "  <thead>\n",
              "    <tr style=\"text-align: right;\">\n",
              "      <th></th>\n",
              "      <th>SAT</th>\n",
              "      <th>GPA</th>\n",
              "    </tr>\n",
              "  </thead>\n",
              "  <tbody>\n",
              "    <tr>\n",
              "      <th>0</th>\n",
              "      <td>1714</td>\n",
              "      <td>2.40</td>\n",
              "    </tr>\n",
              "    <tr>\n",
              "      <th>1</th>\n",
              "      <td>1664</td>\n",
              "      <td>2.52</td>\n",
              "    </tr>\n",
              "    <tr>\n",
              "      <th>2</th>\n",
              "      <td>1760</td>\n",
              "      <td>2.54</td>\n",
              "    </tr>\n",
              "    <tr>\n",
              "      <th>3</th>\n",
              "      <td>1685</td>\n",
              "      <td>2.74</td>\n",
              "    </tr>\n",
              "    <tr>\n",
              "      <th>4</th>\n",
              "      <td>1693</td>\n",
              "      <td>2.83</td>\n",
              "    </tr>\n",
              "    <tr>\n",
              "      <th>...</th>\n",
              "      <td>...</td>\n",
              "      <td>...</td>\n",
              "    </tr>\n",
              "    <tr>\n",
              "      <th>79</th>\n",
              "      <td>1936</td>\n",
              "      <td>3.71</td>\n",
              "    </tr>\n",
              "    <tr>\n",
              "      <th>80</th>\n",
              "      <td>1810</td>\n",
              "      <td>3.71</td>\n",
              "    </tr>\n",
              "    <tr>\n",
              "      <th>81</th>\n",
              "      <td>1987</td>\n",
              "      <td>3.73</td>\n",
              "    </tr>\n",
              "    <tr>\n",
              "      <th>82</th>\n",
              "      <td>1962</td>\n",
              "      <td>3.76</td>\n",
              "    </tr>\n",
              "    <tr>\n",
              "      <th>83</th>\n",
              "      <td>2050</td>\n",
              "      <td>3.81</td>\n",
              "    </tr>\n",
              "  </tbody>\n",
              "</table>\n",
              "<p>84 rows × 2 columns</p>\n",
              "</div>"
            ],
            "text/plain": [
              "     SAT   GPA\n",
              "0   1714  2.40\n",
              "1   1664  2.52\n",
              "2   1760  2.54\n",
              "3   1685  2.74\n",
              "4   1693  2.83\n",
              "..   ...   ...\n",
              "79  1936  3.71\n",
              "80  1810  3.71\n",
              "81  1987  3.73\n",
              "82  1962  3.76\n",
              "83  2050  3.81\n",
              "\n",
              "[84 rows x 2 columns]"
            ]
          },
          "metadata": {
            "tags": []
          },
          "execution_count": 1
        }
      ]
    },
    {
      "cell_type": "code",
      "metadata": {
        "id": "o24RDdCGkGZV",
        "colab_type": "code",
        "colab": {
          "base_uri": "https://localhost:8080/",
          "height": 282
        },
        "outputId": "cfe49afa-5752-450e-a6e9-54063600d8be"
      },
      "source": [
        "print(data[\"SAT\"].plot(kind=\"box\"))"
      ],
      "execution_count": 3,
      "outputs": [
        {
          "output_type": "stream",
          "text": [
            "AxesSubplot(0.125,0.125;0.775x0.755)\n"
          ],
          "name": "stdout"
        },
        {
          "output_type": "display_data",
          "data": {
            "image/png": "[encoded data removed]",
            "text/plain": [
              "<Figure size 432x288 with 1 Axes>"
            ]
          },
          "metadata": {
            "tags": []
          }
        }
      ]
    },
    {
      "cell_type": "code",
      "metadata": {
        "id": "kU9__CpskIWm",
        "colab_type": "code",
        "colab": {}
      },
      "source": [
        ""
      ],
      "execution_count": 0,
      "outputs": []
    },
    {
      "cell_type": "code",
      "metadata": {
        "id": "0WWRHSZIk98N",
        "colab_type": "code",
        "colab": {
          "base_uri": "https://localhost:8080/",
          "height": 282
        },
        "outputId": "7d0d1cdb-7e73-483e-ec88-7fd86ae2b52a"
      },
      "source": [
        "print(data[\"SAT\"].plot(kind=\"box\"))"
      ],
      "execution_count": 4,
      "outputs": [
        {
          "output_type": "stream",
          "text": [
            "AxesSubplot(0.125,0.125;0.775x0.755)\n"
          ],
          "name": "stdout"
        },
        {
          "output_type": "display_data",
          "data": {
            "image/png": "[encoded data removed]",
            "text/plain": [
              "<Figure size 432x288 with 1 Axes>"
            ]
          },
          "metadata": {
            "tags": []
          }
        }
      ]
    },
    {
      "cell_type": "code",
      "metadata": {
        "id": "5u9ULyT_lMK1",
        "colab_type": "code",
        "colab": {
          "base_uri": "https://localhost:8080/",
          "height": 282
        },
        "outputId": "b342f27c-8703-4d92-bfa3-7781a19a4398"
      },
      "source": [
        "plt.plot(data.SAT,data.GPA,\"go\")"
      ],
      "execution_count": 7,
      "outputs": [
        {
          "output_type": "execute_result",
          "data": {
            "text/plain": [
              "[<matplotlib.lines.Line2D at 0x7fbf7a812c18>]"
            ]
          },
          "metadata": {
            "tags": []
          },
          "execution_count": 7
        },
        {
          "output_type": "display_data",
          "data": {
            "image/png": "[encoded data removed]",
            "text/plain": [
              "<Figure size 432x288 with 1 Axes>"
            ]
          },
          "metadata": {
            "tags": []
          }
        }
      ]
    },
    {
      "cell_type": "code",
      "metadata": {
        "id": "Jko4l8RZm0nB",
        "colab_type": "code",
        "colab": {
          "base_uri": "https://localhost:8080/",
          "height": 111
        },
        "outputId": "66f9bdc1-2761-4256-c0a2-828fd05af32e"
      },
      "source": [
        "data.corr()"
      ],
      "execution_count": 8,
      "outputs": [
        {
          "output_type": "execute_result",
          "data": {
            "text/html": [
              "<div>\n",
              "<style scoped>\n",
              "    .dataframe tbody tr th:only-of-type {\n",
              "        vertical-align: middle;\n",
              "    }\n",
              "\n",
              "    .dataframe tbody tr th {\n",
              "        vertical-align: top;\n",
              "    }\n",
              "\n",
              "    .dataframe thead th {\n",
              "        text-align: right;\n",
              "    }\n",
              "</style>\n",
              "<table border=\"1\" class=\"dataframe\">\n",
              "  <thead>\n",
              "    <tr style=\"text-align: right;\">\n",
              "      <th></th>\n",
              "      <th>SAT</th>\n",
              "      <th>GPA</th>\n",
              "    </tr>\n",
              "  </thead>\n",
              "  <tbody>\n",
              "    <tr>\n",
              "      <th>SAT</th>\n",
              "      <td>1.000000</td>\n",
              "      <td>0.637184</td>\n",
              "    </tr>\n",
              "    <tr>\n",
              "      <th>GPA</th>\n",
              "      <td>0.637184</td>\n",
              "      <td>1.000000</td>\n",
              "    </tr>\n",
              "  </tbody>\n",
              "</table>\n",
              "</div>"
            ],
            "text/plain": [
              "          SAT       GPA\n",
              "SAT  1.000000  0.637184\n",
              "GPA  0.637184  1.000000"
            ]
          },
          "metadata": {
            "tags": []
          },
          "execution_count": 8
        }
      ]
    },
    {
      "cell_type": "code",
      "metadata": {
        "id": "DqYsT4T1obwb",
        "colab_type": "code",
        "colab": {
          "base_uri": "https://localhost:8080/",
          "height": 238
        },
        "outputId": "f17e5d0e-ee19-4adb-c4b0-9d3a7c3f8830"
      },
      "source": [
        "X_train,X_test,y_train,y_test=train_test_split(np.asarray(data['SAT']),np.asarray(data['GPA']),test_size=0.2,random_state=123)\n",
        "print(data.shape)\n",
        "print(\"\\n\")\n",
        "print(X_train.shape)\n",
        "print(\"\\n\")\n",
        "print(X_test.shape)\n",
        "print(\"\\n\")\n",
        "print(y_train.shape)\n",
        "print(\"\\n\")\n",
        "print(y_test.shape)\n"
      ],
      "execution_count": 9,
      "outputs": [
        {
          "output_type": "stream",
          "text": [
            "(84, 2)\n",
            "\n",
            "\n",
            "(67,)\n",
            "\n",
            "\n",
            "(17,)\n",
            "\n",
            "\n",
            "(67,)\n",
            "\n",
            "\n",
            "(17,)\n"
          ],
          "name": "stdout"
        }
      ]
    },
    {
      "cell_type": "code",
      "metadata": {
        "id": "B08EgbwZsZDa",
        "colab_type": "code",
        "colab": {
          "base_uri": "https://localhost:8080/",
          "height": 238
        },
        "outputId": "ba65bebb-282b-4486-ba1c-dc3e599a6919"
      },
      "source": [
        "X_train=X_train.reshape(-1,1)\n",
        "y_train=y_train.reshape(-1,1)\n",
        "\n",
        "X_test=X_test.reshape(-1,1)\n",
        "y_test=y_test.reshape(-1,1)\n",
        "print(data.shape)\n",
        "print(\"\\n\")\n",
        "print(X_train.shape)\n",
        "print(\"\\n\")\n",
        "print(X_test.shape)\n",
        "print(\"\\n\")\n",
        "print(y_train.shape)\n",
        "print(\"\\n\")\n",
        "print(y_test.shape)"
      ],
      "execution_count": 10,
      "outputs": [
        {
          "output_type": "stream",
          "text": [
            "(84, 2)\n",
            "\n",
            "\n",
            "(67, 1)\n",
            "\n",
            "\n",
            "(17, 1)\n",
            "\n",
            "\n",
            "(67, 1)\n",
            "\n",
            "\n",
            "(17, 1)\n"
          ],
          "name": "stdout"
        }
      ]
    },
    {
      "cell_type": "markdown",
      "metadata": {
        "id": "ouoDgdlMkIAd",
        "colab_type": "text"
      },
      "source": [
        ""
      ]
    },
    {
      "cell_type": "code",
      "metadata": {
        "id": "Czob8w6svDgR",
        "colab_type": "code",
        "colab": {
          "base_uri": "https://localhost:8080/",
          "height": 54
        },
        "outputId": "dbd90598-f332-41b6-945d-e6eb263e6e9f"
      },
      "source": [
        "lin_model=LinearRegression(normalize=True)\n",
        "lin_model.fit(X_train,y_train)"
      ],
      "execution_count": 13,
      "outputs": [
        {
          "output_type": "execute_result",
          "data": {
            "text/plain": [
              "LinearRegression(copy_X=True, fit_intercept=True, n_jobs=None, normalize=True)"
            ]
          },
          "metadata": {
            "tags": []
          },
          "execution_count": 13
        }
      ]
    },
    {
      "cell_type": "code",
      "metadata": {
        "id": "9qPpFO3IweHl",
        "colab_type": "code",
        "colab": {
          "base_uri": "https://localhost:8080/",
          "height": 34
        },
        "outputId": "c4949b39-026d-4c7f-f0a5-7e6086ccf466"
      },
      "source": [
        "lin_model.coef_"
      ],
      "execution_count": 14,
      "outputs": [
        {
          "output_type": "execute_result",
          "data": {
            "text/plain": [
              "array([[0.00175421]])"
            ]
          },
          "metadata": {
            "tags": []
          },
          "execution_count": 14
        }
      ]
    },
    {
      "cell_type": "code",
      "metadata": {
        "id": "g3SeexywxDAV",
        "colab_type": "code",
        "colab": {
          "base_uri": "https://localhost:8080/",
          "height": 34
        },
        "outputId": "f743ec83-f078-431c-dcf5-1300de03a648"
      },
      "source": [
        "lin_model.intercept_"
      ],
      "execution_count": 15,
      "outputs": [
        {
          "output_type": "execute_result",
          "data": {
            "text/plain": [
              "array([0.08665701])"
            ]
          },
          "metadata": {
            "tags": []
          },
          "execution_count": 15
        }
      ]
    },
    {
      "cell_type": "code",
      "metadata": {
        "id": "jiZNNnugxJhE",
        "colab_type": "code",
        "colab": {
          "base_uri": "https://localhost:8080/",
          "height": 306
        },
        "outputId": "c0bf1133-23fc-4108-e82a-a7d203f8c83d"
      },
      "source": [
        "preds=lin_model.predict(X_test)\n",
        "preds\n"
      ],
      "execution_count": 24,
      "outputs": [
        {
          "output_type": "execute_result",
          "data": {
            "text/plain": [
              "array([[3.47754069],\n",
              "       [3.04600557],\n",
              "       [3.05653082],\n",
              "       [3.48280332],\n",
              "       [3.40737238],\n",
              "       [3.20563848],\n",
              "       [3.58980999],\n",
              "       [3.51437906],\n",
              "       [3.4792949 ],\n",
              "       [3.31966199],\n",
              "       [3.23019739],\n",
              "       [3.46350703],\n",
              "       [3.33194145],\n",
              "       [3.34071249],\n",
              "       [3.12143651],\n",
              "       [3.30036571],\n",
              "       [3.54946321]])"
            ]
          },
          "metadata": {
            "tags": []
          },
          "execution_count": 24
        }
      ]
    },
    {
      "cell_type": "code",
      "metadata": {
        "id": "Yj48WyTDznJV",
        "colab_type": "code",
        "colab": {
          "base_uri": "https://localhost:8080/",
          "height": 51
        },
        "outputId": "b460afed-771e-4a3c-c001-e03b93e34497"
      },
      "source": [
        "y_test=y_test.reshape(-1,)\n",
        "preds=preds.reshape(-1)\n",
        "print(y_test.shape)\n",
        "print(preds.shape)\n"
      ],
      "execution_count": 41,
      "outputs": [
        {
          "output_type": "stream",
          "text": [
            "(17,)\n",
            "(17,)\n"
          ],
          "name": "stdout"
        }
      ]
    },
    {
      "cell_type": "code",
      "metadata": {
        "id": "vxN1MFxn0T_k",
        "colab_type": "code",
        "colab": {
          "base_uri": "https://localhost:8080/",
          "height": 576
        },
        "outputId": "0f8899b5-b42f-439d-abb7-82a480d7f504"
      },
      "source": [
        "df=pd.DataFrame({\"Actual\":y_test,\"predicted\":preds})\n",
        "df"
      ],
      "execution_count": 42,
      "outputs": [
        {
          "output_type": "execute_result",
          "data": {
            "text/html": [
              "<div>\n",
              "<style scoped>\n",
              "    .dataframe tbody tr th:only-of-type {\n",
              "        vertical-align: middle;\n",
              "    }\n",
              "\n",
              "    .dataframe tbody tr th {\n",
              "        vertical-align: top;\n",
              "    }\n",
              "\n",
              "    .dataframe thead th {\n",
              "        text-align: right;\n",
              "    }\n",
              "</style>\n",
              "<table border=\"1\" class=\"dataframe\">\n",
              "  <thead>\n",
              "    <tr style=\"text-align: right;\">\n",
              "      <th></th>\n",
              "      <th>Actual</th>\n",
              "      <th>predicted</th>\n",
              "    </tr>\n",
              "  </thead>\n",
              "  <tbody>\n",
              "    <tr>\n",
              "      <th>0</th>\n",
              "      <td>3.59</td>\n",
              "      <td>3.477541</td>\n",
              "    </tr>\n",
              "    <tr>\n",
              "      <th>1</th>\n",
              "      <td>3.21</td>\n",
              "      <td>3.046006</td>\n",
              "    </tr>\n",
              "    <tr>\n",
              "      <th>2</th>\n",
              "      <td>2.83</td>\n",
              "      <td>3.056531</td>\n",
              "    </tr>\n",
              "    <tr>\n",
              "      <th>3</th>\n",
              "      <td>3.71</td>\n",
              "      <td>3.482803</td>\n",
              "    </tr>\n",
              "    <tr>\n",
              "      <th>4</th>\n",
              "      <td>3.50</td>\n",
              "      <td>3.407372</td>\n",
              "    </tr>\n",
              "    <tr>\n",
              "      <th>5</th>\n",
              "      <td>3.59</td>\n",
              "      <td>3.205638</td>\n",
              "    </tr>\n",
              "    <tr>\n",
              "      <th>6</th>\n",
              "      <td>3.64</td>\n",
              "      <td>3.589810</td>\n",
              "    </tr>\n",
              "    <tr>\n",
              "      <th>7</th>\n",
              "      <td>3.34</td>\n",
              "      <td>3.514379</td>\n",
              "    </tr>\n",
              "    <tr>\n",
              "      <th>8</th>\n",
              "      <td>3.28</td>\n",
              "      <td>3.479295</td>\n",
              "    </tr>\n",
              "    <tr>\n",
              "      <th>9</th>\n",
              "      <td>3.71</td>\n",
              "      <td>3.319662</td>\n",
              "    </tr>\n",
              "    <tr>\n",
              "      <th>10</th>\n",
              "      <td>3.01</td>\n",
              "      <td>3.230197</td>\n",
              "    </tr>\n",
              "    <tr>\n",
              "      <th>11</th>\n",
              "      <td>3.40</td>\n",
              "      <td>3.463507</td>\n",
              "    </tr>\n",
              "    <tr>\n",
              "      <th>12</th>\n",
              "      <td>3.01</td>\n",
              "      <td>3.331941</td>\n",
              "    </tr>\n",
              "    <tr>\n",
              "      <th>13</th>\n",
              "      <td>3.42</td>\n",
              "      <td>3.340712</td>\n",
              "    </tr>\n",
              "    <tr>\n",
              "      <th>14</th>\n",
              "      <td>3.47</td>\n",
              "      <td>3.121437</td>\n",
              "    </tr>\n",
              "    <tr>\n",
              "      <th>15</th>\n",
              "      <td>3.52</td>\n",
              "      <td>3.300366</td>\n",
              "    </tr>\n",
              "    <tr>\n",
              "      <th>16</th>\n",
              "      <td>3.24</td>\n",
              "      <td>3.549463</td>\n",
              "    </tr>\n",
              "  </tbody>\n",
              "</table>\n",
              "</div>"
            ],
            "text/plain": [
              "    Actual  predicted\n",
              "0     3.59   3.477541\n",
              "1     3.21   3.046006\n",
              "2     2.83   3.056531\n",
              "3     3.71   3.482803\n",
              "4     3.50   3.407372\n",
              "5     3.59   3.205638\n",
              "6     3.64   3.589810\n",
              "7     3.34   3.514379\n",
              "8     3.28   3.479295\n",
              "9     3.71   3.319662\n",
              "10    3.01   3.230197\n",
              "11    3.40   3.463507\n",
              "12    3.01   3.331941\n",
              "13    3.42   3.340712\n",
              "14    3.47   3.121437\n",
              "15    3.52   3.300366\n",
              "16    3.24   3.549463"
            ]
          },
          "metadata": {
            "tags": []
          },
          "execution_count": 42
        }
      ]
    },
    {
      "cell_type": "code",
      "metadata": {
        "id": "6RNRmulF1EU7",
        "colab_type": "code",
        "colab": {
          "base_uri": "https://localhost:8080/",
          "height": 34
        },
        "outputId": "6aa88428-2220-4ff9-b601-cc3392f496f9"
      },
      "source": [
        "mean_squared_error(df[\"Actual\"],df[\"predicted\"])"
      ],
      "execution_count": 34,
      "outputs": [
        {
          "output_type": "execute_result",
          "data": {
            "text/plain": [
              "0.055985577920230685"
            ]
          },
          "metadata": {
            "tags": []
          },
          "execution_count": 34
        }
      ]
    },
    {
      "cell_type": "code",
      "metadata": {
        "id": "dHT055-J3aG0",
        "colab_type": "code",
        "colab": {}
      },
      "source": [
        "X_std=(X_train-X_train.mean())/X_train.std()\n",
        "X_test_std=(X_test-X_train.mean())/X_train.std()"
      ],
      "execution_count": 0,
      "outputs": []
    },
    {
      "cell_type": "code",
      "metadata": {
        "id": "nW9UkJw65fjQ",
        "colab_type": "code",
        "colab": {
          "base_uri": "https://localhost:8080/",
          "height": 1000
        },
        "outputId": "2027f975-5e29-47dd-c868-b8bb954ad0e3"
      },
      "source": [
        "X_std=sm.add_constant(X_std)\n",
        "X_std"
      ],
      "execution_count": 43,
      "outputs": [
        {
          "output_type": "execute_result",
          "data": {
            "text/plain": [
              "array([[ 1.        , -0.52582694],\n",
              "       [ 1.        , -0.37490686],\n",
              "       [ 1.        ,  1.13429388],\n",
              "       [ 1.        , -0.4503669 ],\n",
              "       [ 1.        ,  0.84188623],\n",
              "       [ 1.        ,  1.68137915],\n",
              "       [ 1.        , -0.57298946],\n",
              "       [ 1.        , -1.6765925 ],\n",
              "       [ 1.        ,  1.69081165],\n",
              "       [ 1.        ,  1.87946174],\n",
              "       [ 1.        ,  1.39840401],\n",
              "       [ 1.        ,  0.48345106],\n",
              "       [ 1.        , -0.76163955],\n",
              "       [ 1.        , -0.6484495 ],\n",
              "       [ 1.        , -1.31815733],\n",
              "       [ 1.        , -0.81823458],\n",
              "       [ 1.        , -0.51639443],\n",
              "       [ 1.        , -0.73334204],\n",
              "       [ 1.        ,  1.25691644],\n",
              "       [ 1.        , -1.95956764],\n",
              "       [ 1.        ,  0.28536846],\n",
              "       [ 1.        ,  1.63421662],\n",
              "       [ 1.        ,  0.00239332],\n",
              "       [ 1.        , -1.22383228],\n",
              "       [ 1.        , -1.68602501],\n",
              "       [ 1.        , -1.00688467],\n",
              "       [ 1.        ,  0.46458605],\n",
              "       [ 1.        , -0.62958449],\n",
              "       [ 1.        , -1.20496727],\n",
              "       [ 1.        , -1.61999747],\n",
              "       [ 1.        ,  1.1720239 ],\n",
              "       [ 1.        , -1.4785099 ],\n",
              "       [ 1.        ,  0.21934093],\n",
              "       [ 1.        , -1.00688467],\n",
              "       [ 1.        ,  1.37010649],\n",
              "       [ 1.        ,  0.3608285 ],\n",
              "       [ 1.        , -0.19568928],\n",
              "       [ 1.        , -0.68617952],\n",
              "       [ 1.        ,  0.35139599],\n",
              "       [ 1.        , -1.12950723],\n",
              "       [ 1.        ,  0.12501588],\n",
              "       [ 1.        , -0.61071948],\n",
              "       [ 1.        ,  0.61550612],\n",
              "       [ 1.        ,  1.68137915],\n",
              "       [ 1.        ,  1.15315889],\n",
              "       [ 1.        ,  0.06842085],\n",
              "       [ 1.        ,  0.07785336],\n",
              "       [ 1.        , -0.73334204],\n",
              "       [ 1.        ,  0.14388089],\n",
              "       [ 1.        , -0.31831184],\n",
              "       [ 1.        , -0.29944683],\n",
              "       [ 1.        ,  1.96435429],\n",
              "       [ 1.        , -0.10136423],\n",
              "       [ 1.        , -0.77107206],\n",
              "       [ 1.        ,  0.87018375],\n",
              "       [ 1.        ,  0.42685603],\n",
              "       [ 1.        ,  1.29464646],\n",
              "       [ 1.        ,  0.18161091],\n",
              "       [ 1.        , -0.31831184],\n",
              "       [ 1.        , -0.14852675],\n",
              "       [ 1.        , -0.16739176],\n",
              "       [ 1.        , -0.62958449],\n",
              "       [ 1.        ,  0.87018375],\n",
              "       [ 1.        ,  1.07769885],\n",
              "       [ 1.        ,  1.04940134],\n",
              "       [ 1.        , -1.58226746],\n",
              "       [ 1.        ,  0.07785336]])"
            ]
          },
          "metadata": {
            "tags": []
          },
          "execution_count": 43
        }
      ]
    },
    {
      "cell_type": "code",
      "metadata": {
        "id": "M6roCc0H62jN",
        "colab_type": "code",
        "colab": {
          "base_uri": "https://localhost:8080/",
          "height": 423
        },
        "outputId": "804b857f-e955-4ba7-cd37-e86b71978dd9"
      },
      "source": [
        "model_sm=sm.OLS(y_train,X_std).fit()\n",
        "model_sm.summary()"
      ],
      "execution_count": 48,
      "outputs": [
        {
          "output_type": "execute_result",
          "data": {
            "text/html": [
              "<table class=\"simpletable\">\n",
              "<caption>OLS Regression Results</caption>\n",
              "<tr>\n",
              "  <th>Dep. Variable:</th>            <td>y</td>        <th>  R-squared (uncentered):</th>      <td>   0.003</td>\n",
              "</tr>\n",
              "<tr>\n",
              "  <th>Model:</th>                   <td>OLS</td>       <th>  Adj. R-squared (uncentered):</th> <td>  -0.012</td>\n",
              "</tr>\n",
              "<tr>\n",
              "  <th>Method:</th>             <td>Least Squares</td>  <th>  F-statistic:       </th>          <td>  0.2067</td>\n",
              "</tr>\n",
              "<tr>\n",
              "  <th>Date:</th>             <td>Mon, 24 Feb 2020</td> <th>  Prob (F-statistic):</th>           <td> 0.651</td> \n",
              "</tr>\n",
              "<tr>\n",
              "  <th>Time:</th>                 <td>11:29:37</td>     <th>  Log-Likelihood:    </th>          <td> -175.54</td>\n",
              "</tr>\n",
              "<tr>\n",
              "  <th>No. Observations:</th>      <td>    67</td>      <th>  AIC:               </th>          <td>   353.1</td>\n",
              "</tr>\n",
              "<tr>\n",
              "  <th>Df Residuals:</th>          <td>    66</td>      <th>  BIC:               </th>          <td>   355.3</td>\n",
              "</tr>\n",
              "<tr>\n",
              "  <th>Df Model:</th>              <td>     1</td>      <th>                     </th>              <td> </td>   \n",
              "</tr>\n",
              "<tr>\n",
              "  <th>Covariance Type:</th>      <td>nonrobust</td>    <th>                     </th>              <td> </td>   \n",
              "</tr>\n",
              "</table>\n",
              "<table class=\"simpletable\">\n",
              "<tr>\n",
              "   <td></td>     <th>coef</th>     <th>std err</th>      <th>t</th>      <th>P>|t|</th>  <th>[0.025</th>    <th>0.975]</th>  \n",
              "</tr>\n",
              "<tr>\n",
              "  <th>x1</th> <td>    0.1860</td> <td>    0.409</td> <td>    0.455</td> <td> 0.651</td> <td>   -0.631</td> <td>    1.003</td>\n",
              "</tr>\n",
              "</table>\n",
              "<table class=\"simpletable\">\n",
              "<tr>\n",
              "  <th>Omnibus:</th>       <td>17.145</td> <th>  Durbin-Watson:     </th> <td>   0.007</td>\n",
              "</tr>\n",
              "<tr>\n",
              "  <th>Prob(Omnibus):</th> <td> 0.000</td> <th>  Jarque-Bera (JB):  </th> <td>  27.026</td>\n",
              "</tr>\n",
              "<tr>\n",
              "  <th>Skew:</th>          <td>-0.927</td> <th>  Prob(JB):          </th> <td>1.35e-06</td>\n",
              "</tr>\n",
              "<tr>\n",
              "  <th>Kurtosis:</th>      <td> 5.499</td> <th>  Cond. No.          </th> <td>    1.00</td>\n",
              "</tr>\n",
              "</table><br/><br/>Warnings:<br/>[1] Standard Errors assume that the covariance matrix of the errors is correctly specified."
            ],
            "text/plain": [
              "<class 'statsmodels.iolib.summary.Summary'>\n",
              "\"\"\"\n",
              "                                 OLS Regression Results                                \n",
              "=======================================================================================\n",
              "Dep. Variable:                      y   R-squared (uncentered):                   0.003\n",
              "Model:                            OLS   Adj. R-squared (uncentered):             -0.012\n",
              "Method:                 Least Squares   F-statistic:                             0.2067\n",
              "Date:                Mon, 24 Feb 2020   Prob (F-statistic):                       0.651\n",
              "Time:                        11:29:37   Log-Likelihood:                         -175.54\n",
              "No. Observations:                  67   AIC:                                      353.1\n",
              "Df Residuals:                      66   BIC:                                      355.3\n",
              "Df Model:                           1                                                  \n",
              "Covariance Type:            nonrobust                                                  \n",
              "==============================================================================\n",
              "                 coef    std err          t      P>|t|      [0.025      0.975]\n",
              "------------------------------------------------------------------------------\n",
              "x1             0.1860      0.409      0.455      0.651      -0.631       1.003\n",
              "==============================================================================\n",
              "Omnibus:                       17.145   Durbin-Watson:                   0.007\n",
              "Prob(Omnibus):                  0.000   Jarque-Bera (JB):               27.026\n",
              "Skew:                          -0.927   Prob(JB):                     1.35e-06\n",
              "Kurtosis:                       5.499   Cond. No.                         1.00\n",
              "==============================================================================\n",
              "\n",
              "Warnings:\n",
              "[1] Standard Errors assume that the covariance matrix of the errors is correctly specified.\n",
              "\"\"\""
            ]
          },
          "metadata": {
            "tags": []
          },
          "execution_count": 48
        }
      ]
    },
    {
      "cell_type": "code",
      "metadata": {
        "id": "qKhDnuR5ytRE",
        "colab_type": "code",
        "colab": {}
      },
      "source": [
        ""
      ],
      "execution_count": 0,
      "outputs": []
    },
    {
      "cell_type": "code",
      "metadata": {
        "id": "kz0fLm4BzC2E",
        "colab_type": "code",
        "colab": {}
      },
      "source": [
        ""
      ],
      "execution_count": 0,
      "outputs": []
    }
  ]
}